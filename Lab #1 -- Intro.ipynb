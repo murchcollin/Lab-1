{
 "cells": [
  {
   "cell_type": "markdown",
   "metadata": {},
   "source": [
    "## Salary Analysis of Seattle's 2018 Wage Data  ##"
   ]
  },
  {
   "cell_type": "markdown",
   "metadata": {},
   "source": [
    "## Abstract ##"
   ]
  },
  {
   "cell_type": "markdown",
   "metadata": {},
   "source": [
    "*** Introduction ***\n",
    "> In this lab, I will be using Seattle's 2018 wage data to determine a few things. I want to find the average salary of all of Seattle's employees, as well as the minimum and maximum wages. I'm specifically curious to see whether the mayor is Seattle's highest paid employee, as well as whether or not the lowest paid employee makes a legal salary. I want to see how much the city that I live in is spending on paying its employees, which is important, because my family along with many others pay taxes. Everyone should have the ability to know where the taxes that they are paying are going."
   ]
  },
  {
   "cell_type": "markdown",
   "metadata": {},
   "source": [
    "## Dataset Preparation ##"
   ]
  },
  {
   "cell_type": "markdown",
   "metadata": {},
   "source": [
    "***Data Location***\n",
    "\n",
    "> This data was retrieved from Seattle's public database: [Data Link](https://data.seattle.gov/City-Business/City-of-Seattle-Wage-Data/2khk-5ukd)\n",
    "\n",
    "> The data was not modified from the form stored on the server before importing to Jupyter Notebook\n",
    "\n",
    "\n",
    "***Accessing the Data in Python***\n",
    "\n",
    "> To access the data, I had to first to open the file in python. To do that, I opened the file with read permissions, and stored the data in a buffer variable called 'content.' I used the keyword \"with\" to specify to Python that I wanted the file closed after the code block had been executed."
   ]
  },
  {
   "cell_type": "code",
   "execution_count": 3,
   "metadata": {
    "scrolled": false
   },
   "outputs": [],
   "source": [
    "with open('./City_of_Seattle_Wage_Data.csv', 'r') as data:\n",
    "    content = data.read()"
   ]
  },
  {
   "cell_type": "markdown",
   "metadata": {},
   "source": [
    "***Cleaning the Data***\n",
    "\n",
    "> Cleaning the data was fairly straigtforward. The only aspect that would cause problems during analyses was the fact that some of the job titles had commas in them (this causes problems because usually values are seperated with commas in .csv files), but luckily the City of Seattle had thought of this and surrounded those values with quotation marks.\n",
    "\n",
    "> To interpret the data, I first split the entire 'content' buffer by quotation marks, which means that the values inside the quotation marks would be stored in every other element in the list. Then, I looped through every other element, and in that element, I replaced it with a version where the commas had been replaced with spaces. I then modified the initial 'content' buffer to be a variable that stores the new values, where each element is joined with a separating comma. Of course, I wanted to ignore the initial value (indicated with '[1:]'), because the first value is the column titles."
   ]
  },
  {
   "cell_type": "code",
   "execution_count": 4,
   "metadata": {},
   "outputs": [],
   "source": [
    "# Cleaning data *****\n",
    "subQuotes = content.split('\"')\n",
    "\n",
    "# Need pointer, because Python for loops don't keep one unless I use range\n",
    "a = 1\n",
    "# Run on every other item, starting from index 1\n",
    "for x in subQuotes[1::2]:\n",
    "    subQuotes[a] = x.replace(',', ' ')\n",
    "    a += 2\n",
    "\n",
    "content = ','.join(subQuotes).replace(',,', ',').splitlines()[1:]\n",
    "# Done cleaning data *****"
   ]
  },
  {
   "cell_type": "markdown",
   "metadata": {},
   "source": [
    "***Storing the Data for Analysis***\n",
    "\n",
    "> To store the column data in separate lists, I first needed to find away to loop through the master 'content' list. It turns out, Python allows for some fancy notation that basically says, \"take each element in content and split it by commas, then take a given element of that new list and store it in the new list\". That might sound a bit complicated, but all it is really doing is analyzing the given element in 'content', and taking one specific comma-separated value for the new list."
   ]
  },
  {
   "cell_type": "code",
   "execution_count": 5,
   "metadata": {},
   "outputs": [],
   "source": [
    "department = [x.split(',')[0] for x in content]\n",
    "lastName   = [x.split(',')[1] for x in content]\n",
    "firstName  = [x.split(',')[2] for x in content]\n",
    "title      = [x.split(',')[3] for x in content]\n",
    "wage       = [float(x.split(',')[4]) for x in content]\n",
    "# Wage is being casted as float, so I can do numerical comparisons"
   ]
  },
  {
   "cell_type": "markdown",
   "metadata": {},
   "source": [
    "## Data Modelling ##"
   ]
  },
  {
   "cell_type": "markdown",
   "metadata": {},
   "source": [
    "***Finding the Highest-Paid Employee***\n",
    "> To find the highest paid employee, I found the maximum element in the 'wage' list, then grabbed its index. Since the indexes of all lists coorespond with each other, I could use that index to grab the information of the highest paid employee. Finally, I had to print the information that I grabbed in a nice way."
   ]
  },
  {
   "cell_type": "code",
   "execution_count": 6,
   "metadata": {},
   "outputs": [
    {
     "name": "stdout",
     "output_type": "stream",
     "text": [
      "Maximum Wage: $137.79/hr\n",
      "Mami Hara (SPU General Mgr&CEO Seattle Public Utilities)\n",
      "\n"
     ]
    }
   ],
   "source": [
    "# Grab pointer of max wage\n",
    "maxWage = wage.index(max(wage))\n",
    "\n",
    "print(\"Maximum Wage: $%.2f/hr\" % wage[maxWage])\n",
    "print(firstName[maxWage], lastName[maxWage], \"(%s %s)\\n\" %(title[maxWage], department[maxWage]))"
   ]
  },
  {
   "cell_type": "markdown",
   "metadata": {},
   "source": [
    "***Finding the Lowest-Paid Employee***\n",
    "> To find the lowest paid employee, I found the minimum element in the 'wage' list, then grabbed its index. Since the indexes of all lists coorespond with each other, I could use that index to grab the information of the lowest paid employee. Finally, I had to print the information that I grabbed in a nice way."
   ]
  },
  {
   "cell_type": "code",
   "execution_count": 7,
   "metadata": {},
   "outputs": [
    {
     "name": "stdout",
     "output_type": "stream",
     "text": [
      "Mininum Wage: $5.53/hr\n",
      "Amy Bonfrisco (Civil Svc Commissioner Civil Service Commissions Dept)\n",
      "\n"
     ]
    }
   ],
   "source": [
    "# Grab pointer of min wage\n",
    "minWage = wage.index(min(wage))\n",
    "\n",
    "print(\"Mininum Wage: $%.2f/hr\" % wage[minWage])\n",
    "print(firstName[minWage], lastName[minWage], \"(%s %s)\\n\" %(title[minWage], department[minWage]))"
   ]
  },
  {
   "cell_type": "markdown",
   "metadata": {},
   "source": [
    "***Finding the Average Wage***\n",
    "> To find the average wage of all of Seattle's employees, I totalled the elements in wage with the sum() method, then divided it by the length of wage (the amount of employees). Since this is the formula for mean, the average salary is returned. I had to cast one of the elements as a float so that Python wouldn't round the answer. Finally, I had to print the information that I grabbed in a nice way."
   ]
  },
  {
   "cell_type": "code",
   "execution_count": 8,
   "metadata": {},
   "outputs": [
    {
     "name": "stdout",
     "output_type": "stream",
     "text": [
      "Average wage: $39.59/hr\n"
     ]
    }
   ],
   "source": [
    "avgWage = (sum(wage)/float(len(wage)))\n",
    "# Divided by float-casted wage, because then it will return a float\n",
    "\n",
    "print(\"Average wage: $%.2f/hr\" % avgWage)"
   ]
  },
  {
   "cell_type": "markdown",
   "metadata": {},
   "source": [
    "## Data Analysis & Conclusion ##"
   ]
  },
  {
   "cell_type": "markdown",
   "metadata": {},
   "source": [
    "*** Conclusion ***\n",
    ">After analyzing the data, I found that the lowest paid employee is being paid far less than minimum wage, which is certainly shocking. Conversely, the highest paid employee is not the mayor, which certainly raises the question of why they are being paid so much, and how vital their job is to the City of Seattle.\n",
    "\n",
    "> I also found that the average wage is around 40 dollars/hour, which I am not surprised by. Most government employees are paid less than those of private companies, and an average salary of 40 dollars/hour seems perfectly reasonable. The question that this raises is: how does Seattle compare to other cities in terms of average worker salary?"
   ]
  },
  {
   "cell_type": "markdown",
   "metadata": {},
   "source": [
    "## Acknowledgements ##"
   ]
  },
  {
   "cell_type": "markdown",
   "metadata": {},
   "source": [
    "*** Ms. Sconyers: ***\n",
    "> I would like to thank Ms. Sconyers for suggesting both which dataset I should use and what questions should be asked."
   ]
  }
 ],
 "metadata": {
  "kernelspec": {
   "display_name": "Python 3",
   "language": "python",
   "name": "python3"
  },
  "language_info": {
   "codemirror_mode": {
    "name": "ipython",
    "version": 3
   },
   "file_extension": ".py",
   "mimetype": "text/x-python",
   "name": "python",
   "nbconvert_exporter": "python",
   "pygments_lexer": "ipython3",
   "version": "3.6.5"
  }
 },
 "nbformat": 4,
 "nbformat_minor": 2
}
